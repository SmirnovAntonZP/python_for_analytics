{
 "cells": [
  {
   "cell_type": "markdown",
   "id": "e2f29635",
   "metadata": {},
   "source": [
    "# Семинары Python for analitics \n",
    "## Семинар 1. Оформление ноутбука и закрепление функций и генераторов\n"
   ]
  },
  {
   "cell_type": "markdown",
   "id": "db3cc3b7",
   "metadata": {},
   "source": [
    "### Задание 1\n",
    "#### 1.1 Соедините два словаря в один"
   ]
  },
  {
   "cell_type": "markdown",
   "id": "14a9bc5f",
   "metadata": {},
   "source": [
    "##### 1 Способ"
   ]
  },
  {
   "cell_type": "code",
   "execution_count": 1,
   "id": "294a67dd",
   "metadata": {
    "scrolled": true
   },
   "outputs": [
    {
     "data": {
      "text/plain": [
       "{'one': 1, 'two': 2, 'three': 3, 'four': 4}"
      ]
     },
     "execution_count": 1,
     "metadata": {},
     "output_type": "execute_result"
    }
   ],
   "source": [
    "# 1 Sposob\n",
    "dict = {'one':1,'two': 2}\n",
    "dict2 = {'three' : 3, 'four': 4}\n",
    "\n",
    "merged_dict = {**dict,**dict2}\n",
    "merged_dict"
   ]
  },
  {
   "cell_type": "markdown",
   "id": "d7d91eef",
   "metadata": {},
   "source": [
    "##### 2 Способ"
   ]
  },
  {
   "cell_type": "code",
   "execution_count": 2,
   "id": "c8277cc7",
   "metadata": {
    "scrolled": true
   },
   "outputs": [
    {
     "data": {
      "text/plain": [
       "{'one': 1, 'two': 2, 'three': 3, 'four': 4}"
      ]
     },
     "execution_count": 2,
     "metadata": {},
     "output_type": "execute_result"
    }
   ],
   "source": [
    "# 2 sposob\n",
    "dict = {'one':1,'two': 2}\n",
    "dict2 = {'three' : 3, 'four': 4}\n",
    "\n",
    "merged_dict = dict|dict2\n",
    "merged_dict"
   ]
  },
  {
   "cell_type": "markdown",
   "id": "9b766265",
   "metadata": {},
   "source": [
    "##### 3 Способ"
   ]
  },
  {
   "cell_type": "code",
   "execution_count": 3,
   "id": "b741a7cc",
   "metadata": {},
   "outputs": [
    {
     "data": {
      "text/plain": [
       "{'one': 1, 'two': 2, 'three': 3, 'four': 4}"
      ]
     },
     "execution_count": 3,
     "metadata": {},
     "output_type": "execute_result"
    }
   ],
   "source": [
    "dict5 = dict.copy()\n",
    "dict5.update(dict2)\n",
    "dict5"
   ]
  },
  {
   "cell_type": "markdown",
   "id": "c79190d5",
   "metadata": {},
   "source": [
    "#### 1.2 Напишите функцию, которая на вход принимает два словаря и возвращает один объединенный словарь"
   ]
  },
  {
   "cell_type": "code",
   "execution_count": 4,
   "id": "07e730c5",
   "metadata": {},
   "outputs": [],
   "source": [
    "def merge_dicts(d1,d2):\n",
    "        res = d1.copy()\n",
    "        for key,value in d2.items():\n",
    "            res[key] = value\n",
    "        return res"
   ]
  },
  {
   "cell_type": "code",
   "execution_count": 5,
   "id": "1f274ee0",
   "metadata": {},
   "outputs": [
    {
     "data": {
      "text/plain": [
       "{'one': 1, 'two': 2, 'three': 3, 'four': 4}"
      ]
     },
     "execution_count": 5,
     "metadata": {},
     "output_type": "execute_result"
    }
   ],
   "source": [
    "merge_dicts(dict, dict2)"
   ]
  },
  {
   "cell_type": "markdown",
   "id": "8624a8c0",
   "metadata": {},
   "source": [
    "### Задание 2\n",
    "Напишите функцию, которая из двух списков, делает один словарь, где элементы из первого списка - ключи, а элементы из второго списка - значения\n",
    "\n",
    "Используйте аннотирование типов\n",
    "keys = ['One', 'Two', 'Three']\n",
    "values = [1, 2, 3]\n"
   ]
  },
  {
   "cell_type": "markdown",
   "id": "a89641da",
   "metadata": {},
   "source": [
    "#### 2.1 Используя цикл for"
   ]
  },
  {
   "cell_type": "code",
   "execution_count": 32,
   "id": "72b72c04",
   "metadata": {},
   "outputs": [],
   "source": [
    "keys = ['One', 'Two', 'Three']\n",
    "values = [1, 2, 3]"
   ]
  },
  {
   "cell_type": "code",
   "execution_count": 35,
   "id": "e9cf8fbb",
   "metadata": {},
   "outputs": [],
   "source": [
    "def create_dict(k: list, v: list) -> dict:\n",
    "    res_dict = {}\n",
    "    for i in range(len(k)):\n",
    "        res_dict[k[i]] = v[i]\n",
    "    return res_dict\n",
    "\n",
    "# def create_dict(k: list, v: list) -> dict:\n",
    "#     return dict(zip(k,v))"
   ]
  },
  {
   "cell_type": "code",
   "execution_count": 36,
   "id": "f84bcdd7",
   "metadata": {},
   "outputs": [
    {
     "data": {
      "text/plain": [
       "{'One': 1, 'Two': 2, 'Three': 3}"
      ]
     },
     "execution_count": 36,
     "metadata": {},
     "output_type": "execute_result"
    }
   ],
   "source": [
    "create_dict(keys,values)"
   ]
  },
  {
   "cell_type": "markdown",
   "id": "c19f4b88",
   "metadata": {},
   "source": [
    "#### 2.2 Используя dict comprehensions"
   ]
  },
  {
   "cell_type": "code",
   "execution_count": null,
   "id": "0fdb4658",
   "metadata": {},
   "outputs": [],
   "source": [
    "res_dict = {keys[i]: values[i] for i in range(len(keys))}\n",
    "res_dict"
   ]
  },
  {
   "cell_type": "markdown",
   "id": "dccc7383",
   "metadata": {},
   "source": [
    "### Задание 3\n",
    "Извлеките только два ключа name и age из предоставленного словаря"
   ]
  },
  {
   "cell_type": "code",
   "execution_count": null,
   "id": "a34b2e85",
   "metadata": {},
   "outputs": [],
   "source": [
    "client_dict = {\n",
    "    'name': 'John',\n",
    "    'age': 25,\n",
    "    'salary': 5000,\n",
    "    'city': 'Moscow'\n",
    "}"
   ]
  },
  {
   "cell_type": "markdown",
   "id": "7f9bce60",
   "metadata": {},
   "source": [
    "#### Задание 3.1 Напишите функцию с циклом for\n",
    "Функция на вход принимает: \n",
    "- Исходный словарь\n",
    "- Ключи которые нужно извлечь(аргумент по умолчанию)\n",
    "\n",
    "На выходе словарь с нужными ключами\n",
    "\n",
    "Используйте аннотирование типов\n",
    "\n",
    "#### Задание 3.2 Используя dict comprehension"
   ]
  },
  {
   "cell_type": "code",
   "execution_count": null,
   "id": "c8d86379",
   "metadata": {},
   "outputs": [],
   "source": [
    "def keys_from_dict(d: dict, k: list[str] = ['name', 'age']) -> dict:\n",
    "    res = {}\n",
    "    for key in k:\n",
    "        res[key] = d.get(key, 'Такого ключа не найдено')\n",
    "    return res"
   ]
  },
  {
   "cell_type": "code",
   "execution_count": null,
   "id": "b6be06ad",
   "metadata": {},
   "outputs": [],
   "source": [
    "keys_from_dict(client_dict)"
   ]
  },
  {
   "cell_type": "code",
   "execution_count": null,
   "id": "973882d4",
   "metadata": {},
   "outputs": [],
   "source": [
    "keys_from_dict(client_dict, ['salary', 'city',\"number\"])"
   ]
  },
  {
   "cell_type": "code",
   "execution_count": null,
   "id": "0137d448",
   "metadata": {},
   "outputs": [],
   "source": [
    "    res = {key: client_dict.get(key, 'Такого ключа не найдено') for key in ['name', 'age']}\n",
    "    res"
   ]
  },
  {
   "cell_type": "markdown",
   "id": "863521b4",
   "metadata": {},
   "source": [
    "### Задание 4. \n",
    "#### 4.1 Сгенерируйте случайные целые числа от 0 до 100 в количестве 5 штук с помощью модуля random\n",
    "- Зафиксируйте псевдогенерацию, чтобы\n",
    "сгенерированные значения всегда были одинаковые\n",
    "- Используйте list comprehensions"
   ]
  },
  {
   "cell_type": "code",
   "execution_count": 9,
   "id": "40931200",
   "metadata": {},
   "outputs": [],
   "source": [
    "from random import randint,seed\n",
    "import time"
   ]
  },
  {
   "cell_type": "code",
   "execution_count": 10,
   "id": "31113d66",
   "metadata": {},
   "outputs": [
    {
     "data": {
      "text/plain": [
       "[79, 32, 94, 45, 101]"
      ]
     },
     "execution_count": 10,
     "metadata": {},
     "output_type": "execute_result"
    }
   ],
   "source": [
    "seed(5)\n",
    "numbers = []\n",
    "for _ in range(5): \n",
    "    numbers.append(randint(0,101))\n",
    "    \n",
    "numbers"
   ]
  },
  {
   "cell_type": "code",
   "execution_count": 11,
   "id": "bc4b73a2",
   "metadata": {},
   "outputs": [
    {
     "data": {
      "text/plain": [
       "[79, 32, 94, 45, 101]"
      ]
     },
     "execution_count": 11,
     "metadata": {},
     "output_type": "execute_result"
    }
   ],
   "source": [
    "seed(5)\n",
    "numbers = [randint(0,101) for _ in range(5)]\n",
    "numbers"
   ]
  },
  {
   "cell_type": "markdown",
   "id": "122ec08c",
   "metadata": {},
   "source": [
    "#### 4.2 Напишите генератор\n",
    "Генератор на вход принимает список с данными о клиенте (данные\n",
    "из пункта 4.1)\n",
    "\n",
    "Внутри генератора реализуйте обход по списку с данными\n",
    "\n",
    "На каждой итерации генератор будет возвращать кортеж из двух\n",
    "элементов:\n",
    "- данные по клиенту (в зависимости от итерации, на 0 итерации\n",
    "вернется 0 элемент, на 1 итерации вернется 1 элемент и тд)\n",
    "- целочисленное значение, которое показывает, сколько секунд\n",
    "прошло с предыдущей итерации\n",
    "\n",
    "Примечание: секунды, которые возвращаются должны показывать время не\n",
    "с начала запуска генератора, а именно то время, которое прошло с\n",
    "предыдущей итерации. А значит время на первой итерации должно\n",
    "равняться 0.\n",
    "\n",
    "Используйте функцию time из модуля time для подсчета времени.\n",
    "\n",
    "Чтобы проверить работу таймера, запустите проход по\n",
    "генератору в цикле с time.sleep(2)\n"
   ]
  },
  {
   "cell_type": "code",
   "execution_count": 12,
   "id": "5866d53a",
   "metadata": {},
   "outputs": [],
   "source": [
    "def my_gen(nums: list[int]):\n",
    "    last_time = time.time()\n",
    "    for num in nums:\n",
    "        cur_time = time.time()\n",
    "        yield num, cur_time - last_time\n",
    "        last_time = cur_timeЗадание 5.\n",
    "5.1 Найдите картинку в интернете и прикрепите её\n",
    "в ячейку с текстом\n",
    "5.2 Создайте следующую таблицу в ячейке с\n",
    "текстом\n",
    "        print(\"следующий запуск генератора\")\n",
    "    "
   ]
  },
  {
   "cell_type": "code",
   "execution_count": 13,
   "id": "83837256",
   "metadata": {},
   "outputs": [
    {
     "name": "stdout",
     "output_type": "stream",
     "text": [
      "(79, 1.1920928955078125e-06)\n",
      "следующий запуск генератора\n",
      "(32, 2.0037319660186768)\n",
      "следующий запуск генератора\n",
      "(94, 1.999959945678711)\n",
      "следующий запуск генератора\n",
      "(45, 2.0039491653442383)\n",
      "следующий запуск генератора\n",
      "(101, 2.0043818950653076)\n",
      "следующий запуск генератора\n"
     ]
    }
   ],
   "source": [
    "for t in my_gen(numbers):\n",
    "    print(t)\n",
    "    time.sleep(2)"
   ]
  },
  {
   "cell_type": "markdown",
   "id": "3b9345fb",
   "metadata": {},
   "source": [
    "### Задание 5.\n",
    "#### 5.1 Найдите картинку в интернете и прикрепите её в ячейку с текстом"
   ]
  },
  {
   "cell_type": "markdown",
   "id": "394d742b",
   "metadata": {},
   "source": [
    "<img src = https://habrastorage.org/files/b79/598/4a8/b795984a80064f7a9ca54ef3a06d94a1.png width = 300, alt = \"Множества python\"> "
   ]
  },
  {
   "cell_type": "markdown",
   "id": "3baf8a0e",
   "metadata": {},
   "source": [
    "#### 5.2 Создайте следующую таблицу в ячейке с текстом"
   ]
  },
  {
   "cell_type": "markdown",
   "id": "5eaa7a49",
   "metadata": {},
   "source": [
    "<table>\n",
    "    <tr>\n",
    "        <td></td>\n",
    "        <td>До события</td>\n",
    "        <td>Во время события</td>\n",
    "    </tr>      \n",
    "    <tr>\n",
    "        <td>1 точка</td>\n",
    "        <td>250</td>\n",
    "        <td>500</td>\n",
    "    </tr> \n",
    "        <tr>\n",
    "        <td>2 точка</td>\n",
    "        <td>350</td>\n",
    "        <td>700</td>\n",
    "    </tr>      \n",
    "        <tr>\n",
    "        <td>3 точка</td>\n",
    "        <td>400</td>\n",
    "        <td>800</td>\n",
    "    </tr>      \n",
    "        <tr>\n",
    "        <td>Итого</td>\n",
    "        <td>1000</td>\n",
    "        <td>2000</td>\n",
    "    </tr>      \n",
    "</table>"
   ]
  },
  {
   "cell_type": "markdown",
   "id": "9dd84acc",
   "metadata": {},
   "source": [
    "| Column 1 | Column 2 | Column 3 |\n",
    "|----------|----------|----------|\n",
    "| Row 1 | Cell 2 | Cell 3 |\n",
    "| Row 2 | Cell 5 | Cell 6 |\n",
    "| Row 3 | Cell 8 | Cell 9 |"
   ]
  },
  {
   "cell_type": "markdown",
   "id": "c6c0db7d",
   "metadata": {},
   "source": [
    "### Задание 6.\n",
    "Напишите функцию, которая может принимать любое\n",
    "количество трат пользователя и считать сумму и среднее.\n",
    "\n",
    "- На вход поступают целочисленные значения в любом\n",
    "количестве\n",
    "\n",
    "- На выходе словарь с ключами суммы трат и средней\n",
    "траты"
   ]
  },
  {
   "cell_type": "code",
   "execution_count": 19,
   "id": "1b310f42",
   "metadata": {},
   "outputs": [],
   "source": [
    "def calc(*args: tuple[int]) -> dict:\n",
    "#     print(args)\n",
    "    sum_ = sum(args)\n",
    "    length = len(args)\n",
    "    return {'Сумма трат': sum_, 'Средняя трата': sum_/length}"
   ]
  },
  {
   "cell_type": "code",
   "execution_count": 29,
   "id": "724b4883",
   "metadata": {},
   "outputs": [
    {
     "name": "stdout",
     "output_type": "stream",
     "text": [
      "все траты: [79, 32, 94, 45, 101]\n"
     ]
    },
    {
     "data": {
      "text/plain": [
       "{'Сумма трат': 351, 'Средняя трата': 70.2}"
      ]
     },
     "execution_count": 29,
     "metadata": {},
     "output_type": "execute_result"
    }
   ],
   "source": [
    "print(f'все траты: {numbers}' )\n",
    "calc(*numbers)"
   ]
  },
  {
   "cell_type": "code",
   "execution_count": null,
   "id": "7d5b493e",
   "metadata": {},
   "outputs": [],
   "source": []
  },
  {
   "cell_type": "code",
   "execution_count": null,
   "id": "e7be021f",
   "metadata": {},
   "outputs": [],
   "source": []
  },
  {
   "cell_type": "code",
   "execution_count": null,
   "id": "c3a365ef",
   "metadata": {},
   "outputs": [],
   "source": []
  },
  {
   "cell_type": "code",
   "execution_count": null,
   "id": "0dbacc48",
   "metadata": {},
   "outputs": [],
   "source": []
  },
  {
   "cell_type": "code",
   "execution_count": 30,
   "id": "efd9993d",
   "metadata": {},
   "outputs": [],
   "source": [
    "def notebooks(**kwargs):\n",
    "    print(kwargs)"
   ]
  },
  {
   "cell_type": "code",
   "execution_count": 31,
   "id": "07a51802",
   "metadata": {},
   "outputs": [
    {
     "name": "stdout",
     "output_type": "stream",
     "text": [
      "{'book': 1, 'mac': 2, 'windows': 3}\n"
     ]
    }
   ],
   "source": [
    "notebooks(book=1,mac=2,windows=3)"
   ]
  },
  {
   "cell_type": "code",
   "execution_count": null,
   "id": "7f2e8890",
   "metadata": {},
   "outputs": [],
   "source": []
  }
 ],
 "metadata": {
  "kernelspec": {
   "display_name": "Python 3 (ipykernel)",
   "language": "python",
   "name": "python3"
  },
  "language_info": {
   "codemirror_mode": {
    "name": "ipython",
    "version": 3
   },
   "file_extension": ".py",
   "mimetype": "text/x-python",
   "name": "python",
   "nbconvert_exporter": "python",
   "pygments_lexer": "ipython3",
   "version": "3.9.13"
  }
 },
 "nbformat": 4,
 "nbformat_minor": 5
}
