{
 "cells": [
  {
   "cell_type": "markdown",
   "id": "e5987144",
   "metadata": {},
   "source": [
    "# Домашняя работа\n",
    "## Задание 1. Нормализация оценок студентов\n",
    "Вам дан список оценок студентов, в котором некоторые оценки могут быть\n",
    "недействительными (отрицательные числа).\n",
    "\n",
    "Напишите функцию\n",
    "\n",
    "normalize_grades, которая удаляет недействительные оценки и возвращает\n",
    "список всех оставшихся оценок, отсортированных в порядке убывания.\n",
    "\n",
    "Пример:\n",
    "\n",
    "grades = [95, -10, 82, 90, -5, 77]\n",
    "\n",
    "print(normalize_grades(grades))\n",
    "На выходе: [95, 90, 82, 77]"
   ]
  },
  {
   "cell_type": "code",
   "execution_count": 9,
   "id": "2d5c5107",
   "metadata": {},
   "outputs": [
    {
     "data": {
      "text/plain": [
       "[95, 90, 82, 77]"
      ]
     },
     "execution_count": 9,
     "metadata": {},
     "output_type": "execute_result"
    }
   ],
   "source": [
    "grades = [95, -10, 82, 90, -5, 77]\n",
    "\n",
    "def normalize_grades(grades):\n",
    "    res = [i for i in grades if i > 0]\n",
    "    return sorted(res, reverse = True)\n",
    "\n",
    "normalize_grades(grades)\n",
    "\n",
    "\n",
    "    "
   ]
  },
  {
   "cell_type": "markdown",
   "id": "f0c79c15",
   "metadata": {},
   "source": [
    "## Задача 2. Подсчет уникальных продуктов\n",
    "Вам дан список покупок, где каждый элемент — это название продукта.\n",
    "\n",
    "Напишите функцию unique_products_count, которая возвращает\n",
    "количество уникальных продуктов в списке.\n",
    "\n",
    "Пример:\n",
    "\n",
    "products = ['apple', 'banana', 'apple', 'orange', 'banana', 'grape']\n",
    "\n",
    "print(unique_products_count(products))\n",
    "\n",
    "На выходе: 4"
   ]
  },
  {
   "cell_type": "code",
   "execution_count": 58,
   "id": "63cd264f",
   "metadata": {},
   "outputs": [
    {
     "data": {
      "text/plain": [
       "4"
      ]
     },
     "execution_count": 58,
     "metadata": {},
     "output_type": "execute_result"
    }
   ],
   "source": [
    "products = ['apple', 'banana','apple','orange','banana','grape']\n",
    "\n",
    "def unique_products_count(products):\n",
    "    return len(set(products))\n",
    "\n",
    "unique_products_count(products)"
   ]
  },
  {
   "cell_type": "markdown",
   "id": "b0926544",
   "metadata": {},
   "source": [
    "## Задача 3. Расчет выручки по годам\n",
    "Напишите функцию calc_income_by_year, которая принимает список с\n",
    "датами и список с выручкой, а возвращает словарь, где ключи — это года, а\n",
    "значения — это выручка за соответствующие года. Используйте аннотирование\n",
    "типов.\n",
    "\n",
    "Пример:\n",
    "\n",
    "print(calc_income_by_year(['2021-11-01', '2021-12-15', '2020-11-30'], [100, 200,\n",
    "150]))\n",
    "\n",
    "На выходе: {'2021': 300, '2020': 150}"
   ]
  },
  {
   "cell_type": "code",
   "execution_count": 71,
   "id": "d600ed40",
   "metadata": {},
   "outputs": [
    {
     "data": {
      "text/plain": [
       "{'2021': 300, '2020': 150}"
      ]
     },
     "execution_count": 71,
     "metadata": {},
     "output_type": "execute_result"
    }
   ],
   "source": [
    "dates = ['2021-11-01', '2021-12-15', '2020-11-30']\n",
    "revenues = [100, 200, 150]\n",
    "\n",
    "def calc_income_by_year(d: list[str], r: list[int] ) -> dict[str,int]:\n",
    "    res = {}\n",
    "    for date,revenue in zip(dates,revenues):\n",
    "        year = date.split('-')[0]\n",
    "        res[year] = res.get(year, 0) + revenue\n",
    "    return res\n",
    "\n",
    "calc_income_by_year(date,revenue)\n",
    "\n",
    "# def calc_income_by_year(d: list, r: list ) -> dict:\n",
    "#     res={}\n",
    "#     return res(zip(d,r)) \n",
    "\n",
    "# calc_income_by_year(date,revenue)"
   ]
  },
  {
   "cell_type": "markdown",
   "id": "31bdb7e9",
   "metadata": {},
   "source": [
    "## Задача 4. Подсчет количества слов в текстах\n",
    "У вас есть список строк, где каждая строка представляет собой текст.\n",
    "\n",
    "Напишите функцию count_words, которая возвращает общее количество слов\n",
    "во всех строках. Используйте list comprehensions.\n",
    "\n",
    "texts = [\"Hello world\", \"Python is great\", \"I love coding\"]"
   ]
  },
  {
   "cell_type": "code",
   "execution_count": 80,
   "id": "08a227ac",
   "metadata": {},
   "outputs": [
    {
     "name": "stdout",
     "output_type": "stream",
     "text": [
      " Количество слов во всех строках = 8\n"
     ]
    }
   ],
   "source": [
    "texts = [\"Hello world\", \"Python is great\", \"I love coding\"]\n",
    "\n",
    "def count_words(texts):\n",
    "    return sum(len(i.split()) for i in texts)\n",
    "        \n",
    "\n",
    "print(f\" Количество слов во всех строках = {count_words(texts)}\")"
   ]
  },
  {
   "cell_type": "markdown",
   "id": "58b838bc",
   "metadata": {},
   "source": [
    "## Задача 5. Подсчет среднего возраста сотрудников\n",
    "У вас есть список сотрудников, где каждый сотрудник представлен кортежем из\n",
    "имени и возраста. \n",
    "\n",
    "Напишите функцию average_age, которая находит и\n",
    "возвращает средний возраст сотрудников, исключая тех, чей возраст меньше\n",
    "нуля (ошибочные данные).\n",
    "\n",
    "Пример:\n",
    "\n",
    "Входные данные:\n",
    "\n",
    "employees = [(\"Alice\", 30), (\"Bob\", -5), (\"Charlie\", 40)]\n",
    "\n",
    "Ожидаемый результат:\n",
    "\n",
    "35.0"
   ]
  },
  {
   "cell_type": "code",
   "execution_count": 85,
   "id": "d77f0ca4",
   "metadata": {},
   "outputs": [
    {
     "name": "stdout",
     "output_type": "stream",
     "text": [
      " средний возраст сотрудников = 35.0\n"
     ]
    }
   ],
   "source": [
    "employees = [(\"Alice\", 30), (\"Bob\", -5), (\"Charlie\", 40)]\n",
    "\n",
    "def average_age(employees):\n",
    "    for name,age in employees:\n",
    "        right_ages = [age for name, age in employees if age > 0]\n",
    "        return sum(right_ages) / len(right_ages)\n",
    "print(f' средний возраст сотрудников = {average_age(employees)}')"
   ]
  }
 ],
 "metadata": {
  "kernelspec": {
   "display_name": "Python 3 (ipykernel)",
   "language": "python",
   "name": "python3"
  },
  "language_info": {
   "codemirror_mode": {
    "name": "ipython",
    "version": 3
   },
   "file_extension": ".py",
   "mimetype": "text/x-python",
   "name": "python",
   "nbconvert_exporter": "python",
   "pygments_lexer": "ipython3",
   "version": "3.9.13"
  }
 },
 "nbformat": 4,
 "nbformat_minor": 5
}
