{
 "cells": [
  {
   "cell_type": "code",
   "execution_count": 1,
   "id": "dceb9c77",
   "metadata": {},
   "outputs": [
    {
     "data": {
      "text/plain": [
       "{'name': 'Anton', 'surname': 'Smirnov', 'age': '28'}"
      ]
     },
     "execution_count": 1,
     "metadata": {},
     "output_type": "execute_result"
    }
   ],
   "source": [
    "client_data = {\n",
    "    \"name\": \"Anton\",\n",
    "    \"surname\": \"Smirnov\",\n",
    "    \"age\": \"28\"\n",
    "}\n",
    "client_data\n"
   ]
  },
  {
   "cell_type": "markdown",
   "id": "c9ddf190",
   "metadata": {},
   "source": [
    "Создание словаря"
   ]
  },
  {
   "cell_type": "code",
   "execution_count": 2,
   "id": "a49f800a",
   "metadata": {},
   "outputs": [
    {
     "data": {
      "text/plain": [
       "'Anton'"
      ]
     },
     "execution_count": 2,
     "metadata": {},
     "output_type": "execute_result"
    }
   ],
   "source": [
    "client_data[\"name\"]"
   ]
  },
  {
   "cell_type": "markdown",
   "id": "8efe860e",
   "metadata": {},
   "source": [
    "достать значение по ключу name"
   ]
  },
  {
   "cell_type": "code",
   "execution_count": 3,
   "id": "602dfee2",
   "metadata": {
    "scrolled": true
   },
   "outputs": [
    {
     "data": {
      "text/plain": [
       "dict_keys(['name', 'surname', 'age'])"
      ]
     },
     "execution_count": 3,
     "metadata": {},
     "output_type": "execute_result"
    }
   ],
   "source": [
    "client_data.keys()"
   ]
  },
  {
   "cell_type": "markdown",
   "id": "29a334ca",
   "metadata": {},
   "source": [
    "Показать все ключи в словаре"
   ]
  },
  {
   "cell_type": "raw",
   "id": "096cfa0b",
   "metadata": {},
   "source": [
    "client_data.values()"
   ]
  },
  {
   "cell_type": "markdown",
   "id": "3f074cad",
   "metadata": {},
   "source": [
    "Показать все значения в словаре"
   ]
  },
  {
   "cell_type": "code",
   "execution_count": 4,
   "id": "35573d01",
   "metadata": {
    "scrolled": true
   },
   "outputs": [
    {
     "data": {
      "text/plain": [
       "dict_items([('name', 'Anton'), ('surname', 'Smirnov'), ('age', '28')])"
      ]
     },
     "execution_count": 4,
     "metadata": {},
     "output_type": "execute_result"
    }
   ],
   "source": [
    "client_data.items()"
   ]
  },
  {
   "cell_type": "markdown",
   "id": "c7bd4ba7",
   "metadata": {},
   "source": [
    "Показать ключи и значения"
   ]
  },
  {
   "cell_type": "code",
   "execution_count": 5,
   "id": "5fd7d39c",
   "metadata": {
    "scrolled": true
   },
   "outputs": [
    {
     "name": "stdout",
     "output_type": "stream",
     "text": [
      "name: Anton\n",
      "surname: Smirnov\n",
      "age: 28\n"
     ]
    }
   ],
   "source": [
    "for k,v in client_data.items():\n",
    "    print(f'{k}: {v}')"
   ]
  },
  {
   "cell_type": "markdown",
   "id": "5c71c28c",
   "metadata": {},
   "source": [
    "Вывод в формате ключ:значение"
   ]
  },
  {
   "cell_type": "code",
   "execution_count": 6,
   "id": "94486102",
   "metadata": {},
   "outputs": [
    {
     "data": {
      "text/plain": [
       "{'name': 'Anton', 'surname': 'Smirnov', 'age': '28', 'height': 186}"
      ]
     },
     "execution_count": 6,
     "metadata": {},
     "output_type": "execute_result"
    }
   ],
   "source": [
    "client_data['height'] = 186\n",
    "client_data"
   ]
  },
  {
   "cell_type": "markdown",
   "id": "9a835fe5",
   "metadata": {},
   "source": [
    "Добавление нового ключа и значения к нему"
   ]
  },
  {
   "cell_type": "code",
   "execution_count": 7,
   "id": "829c6b01",
   "metadata": {},
   "outputs": [
    {
     "data": {
      "text/plain": [
       "{'name': 'Anton', 'surname': 'Smirnov', 'age': 14, 'height': 186}"
      ]
     },
     "execution_count": 7,
     "metadata": {},
     "output_type": "execute_result"
    }
   ],
   "source": [
    "client_data['age'] = 14\n",
    "client_data"
   ]
  },
  {
   "cell_type": "markdown",
   "id": "4de80df8",
   "metadata": {},
   "source": [
    "Перезапись значений (небезопасно, так как если значение данному ключу уже присвоено - оно будет перезаписано на новое)"
   ]
  },
  {
   "cell_type": "code",
   "execution_count": 8,
   "id": "ac6faf91",
   "metadata": {},
   "outputs": [
    {
     "data": {
      "text/plain": [
       "{'name': 'Anton', 'surname': 'Smirnov', 'age': '28'}"
      ]
     },
     "execution_count": 8,
     "metadata": {},
     "output_type": "execute_result"
    }
   ],
   "source": [
    "client_data = {\n",
    "    \"name\": \"Anton\",\n",
    "    \"surname\": \"Smirnov\",\n",
    "    \"age\": \"28\"\n",
    "}\n",
    "client_data"
   ]
  },
  {
   "cell_type": "code",
   "execution_count": 9,
   "id": "f7812813",
   "metadata": {},
   "outputs": [
    {
     "data": {
      "text/plain": [
       "'28'"
      ]
     },
     "execution_count": 9,
     "metadata": {},
     "output_type": "execute_result"
    }
   ],
   "source": [
    "client_data.setdefault('age', 14)"
   ]
  },
  {
   "cell_type": "code",
   "execution_count": 10,
   "id": "8fcc3707",
   "metadata": {},
   "outputs": [
    {
     "data": {
      "text/plain": [
       "{'name': 'Anton', 'surname': 'Smirnov', 'age': '28'}"
      ]
     },
     "execution_count": 10,
     "metadata": {},
     "output_type": "execute_result"
    }
   ],
   "source": [
    "client_data"
   ]
  },
  {
   "cell_type": "markdown",
   "id": "28128342",
   "metadata": {},
   "source": [
    "Перезапись значений (безопасное, сли значение данному ключу уже присвоено - оно не будет перезаписано на новое, выведится старое значение)"
   ]
  },
  {
   "cell_type": "code",
   "execution_count": 11,
   "id": "9149bfe2",
   "metadata": {},
   "outputs": [
    {
     "data": {
      "text/plain": [
       "{'name': 'Anton', 'surname': 'Smirnov', 'age': 28}"
      ]
     },
     "execution_count": 11,
     "metadata": {},
     "output_type": "execute_result"
    }
   ],
   "source": [
    "client_data.update({\n",
    "    'age': 28\n",
    "})\n",
    "client_data"
   ]
  },
  {
   "cell_type": "markdown",
   "id": "2cf31e53",
   "metadata": {},
   "source": [
    "Еще один вариант перезаписи данных"
   ]
  },
  {
   "cell_type": "code",
   "execution_count": 12,
   "id": "1d7e8f55",
   "metadata": {},
   "outputs": [
    {
     "data": {
      "text/plain": [
       "{'name': 'Anton',\n",
       " 'surname': 'Smirnov',\n",
       " 'age': 15,\n",
       " 'body': {'weight': 80, 'height': 186}}"
      ]
     },
     "execution_count": 12,
     "metadata": {},
     "output_type": "execute_result"
    }
   ],
   "source": [
    "client_data.update({\n",
    "    \"age\": 15,\n",
    "    'body': {\n",
    "        'weight': 80,\n",
    "        'height': 186\n",
    "    }\n",
    "})\n",
    "client_data"
   ]
  },
  {
   "cell_type": "markdown",
   "id": "ab1b0026",
   "metadata": {},
   "source": [
    "Вложменный словарь (словарь в словаре)"
   ]
  },
  {
   "cell_type": "code",
   "execution_count": 13,
   "id": "8ed7c167",
   "metadata": {},
   "outputs": [
    {
     "data": {
      "text/plain": [
       "{'weight': 80, 'height': 186}"
      ]
     },
     "execution_count": 13,
     "metadata": {},
     "output_type": "execute_result"
    }
   ],
   "source": [
    "client_data['body']"
   ]
  },
  {
   "cell_type": "markdown",
   "id": "863b46ea",
   "metadata": {},
   "source": [
    "Вывод вложенного словаря"
   ]
  },
  {
   "cell_type": "code",
   "execution_count": 14,
   "id": "45fca1fe",
   "metadata": {},
   "outputs": [
    {
     "data": {
      "text/plain": [
       "186"
      ]
     },
     "execution_count": 14,
     "metadata": {},
     "output_type": "execute_result"
    }
   ],
   "source": [
    "client_data['body']['height']"
   ]
  },
  {
   "cell_type": "markdown",
   "id": "8c0eaa48",
   "metadata": {},
   "source": [
    "вывод нужного значения по ключу из вложенного словаря"
   ]
  },
  {
   "cell_type": "markdown",
   "id": "98dd15f9",
   "metadata": {},
   "source": [
    "## Модуль Random"
   ]
  },
  {
   "cell_type": "markdown",
   "id": "831feb92",
   "metadata": {},
   "source": [
    "Модуль рандом предоставляет функции для генерации случайных чисел или к примеру, для случайного выбора элементов последовательности."
   ]
  },
  {
   "cell_type": "code",
   "execution_count": 15,
   "id": "79119462",
   "metadata": {},
   "outputs": [],
   "source": [
    "import random"
   ]
  },
  {
   "cell_type": "code",
   "execution_count": 16,
   "id": "f56138d4",
   "metadata": {},
   "outputs": [
    {
     "data": {
      "text/plain": [
       "0"
      ]
     },
     "execution_count": 16,
     "metadata": {},
     "output_type": "execute_result"
    }
   ],
   "source": [
    "random.randint(0,10)"
   ]
  },
  {
   "cell_type": "code",
   "execution_count": 17,
   "id": "8d1dcda1",
   "metadata": {},
   "outputs": [
    {
     "data": {
      "text/plain": [
       "9"
      ]
     },
     "execution_count": 17,
     "metadata": {},
     "output_type": "execute_result"
    }
   ],
   "source": [
    "random.seed(5)\n",
    "random.randint(0,10)"
   ]
  },
  {
   "cell_type": "code",
   "execution_count": 18,
   "id": "4c634351",
   "metadata": {},
   "outputs": [
    {
     "data": {
      "text/plain": [
       "0.2554450164868458"
      ]
     },
     "execution_count": 18,
     "metadata": {},
     "output_type": "execute_result"
    }
   ],
   "source": [
    "random.random()"
   ]
  },
  {
   "cell_type": "code",
   "execution_count": 19,
   "id": "97b35695",
   "metadata": {},
   "outputs": [
    {
     "data": {
      "text/plain": [
       "3.5853551175589526"
      ]
     },
     "execution_count": 19,
     "metadata": {},
     "output_type": "execute_result"
    }
   ],
   "source": [
    "random.uniform(0,10)"
   ]
  },
  {
   "cell_type": "code",
   "execution_count": 20,
   "id": "daa91ab2",
   "metadata": {},
   "outputs": [
    {
     "data": {
      "text/plain": [
       "['black', 'red', 'green', 'yellow']"
      ]
     },
     "execution_count": 20,
     "metadata": {},
     "output_type": "execute_result"
    }
   ],
   "source": [
    "colors = ['black','red','yellow','green']\n",
    "random.sample(colors,4)"
   ]
  },
  {
   "cell_type": "markdown",
   "id": "c925e3f6",
   "metadata": {},
   "source": [
    "Возвращает заданное количество цветов"
   ]
  },
  {
   "cell_type": "code",
   "execution_count": 21,
   "id": "6d2256ff",
   "metadata": {},
   "outputs": [
    {
     "data": {
      "text/plain": [
       "['yellow', 'green', 'black', 'red']"
      ]
     },
     "execution_count": 21,
     "metadata": {},
     "output_type": "execute_result"
    }
   ],
   "source": [
    "random.shuffle(colors)\n",
    "colors"
   ]
  },
  {
   "cell_type": "markdown",
   "id": "b2c762ac",
   "metadata": {},
   "source": [
    "Перемешивает цвета в списке"
   ]
  },
  {
   "cell_type": "code",
   "execution_count": 22,
   "id": "9f54fffd",
   "metadata": {},
   "outputs": [
    {
     "data": {
      "text/plain": [
       "'red'"
      ]
     },
     "execution_count": 22,
     "metadata": {},
     "output_type": "execute_result"
    }
   ],
   "source": [
    "random.choice(colors)"
   ]
  },
  {
   "cell_type": "markdown",
   "id": "39f4ef95",
   "metadata": {},
   "source": [
    "Возвращает один вариант"
   ]
  },
  {
   "cell_type": "markdown",
   "id": "02bd3cc4",
   "metadata": {},
   "source": [
    "## Function"
   ]
  },
  {
   "cell_type": "code",
   "execution_count": 23,
   "id": "e1aae593",
   "metadata": {},
   "outputs": [],
   "source": [
    "def func(arg1,arg2):\n",
    "    result = arg1 + arg2\n",
    "    return result"
   ]
  },
  {
   "cell_type": "code",
   "execution_count": 24,
   "id": "54503501",
   "metadata": {},
   "outputs": [],
   "source": [
    "def calc_Sum(a,b):\n",
    "    print(f'a is {a}')\n",
    "    print(f'b is {b}')\n",
    "    result = a + b\n",
    "    return result\n",
    "          "
   ]
  },
  {
   "cell_type": "code",
   "execution_count": 25,
   "id": "0ec251bc",
   "metadata": {
    "scrolled": true
   },
   "outputs": [
    {
     "name": "stdout",
     "output_type": "stream",
     "text": [
      "a is 2\n",
      "b is 4\n"
     ]
    },
    {
     "data": {
      "text/plain": [
       "6"
      ]
     },
     "execution_count": 25,
     "metadata": {},
     "output_type": "execute_result"
    }
   ],
   "source": [
    "calc_Sum(2,4)"
   ]
  },
  {
   "cell_type": "code",
   "execution_count": 26,
   "id": "833b997d",
   "metadata": {
    "scrolled": true
   },
   "outputs": [
    {
     "name": "stdout",
     "output_type": "stream",
     "text": [
      "a is 3\n",
      "b is 5\n"
     ]
    },
    {
     "data": {
      "text/plain": [
       "8"
      ]
     },
     "execution_count": 26,
     "metadata": {},
     "output_type": "execute_result"
    }
   ],
   "source": [
    "calc_Sum(a = 3, b =5)"
   ]
  },
  {
   "cell_type": "code",
   "execution_count": 27,
   "id": "d749a0af",
   "metadata": {},
   "outputs": [],
   "source": [
    "def say_hi(greeting = \"Hello\", name = 'World'):\n",
    "    return f'{greeting}, {name}'\n"
   ]
  },
  {
   "cell_type": "code",
   "execution_count": 28,
   "id": "421a2317",
   "metadata": {},
   "outputs": [
    {
     "data": {
      "text/plain": [
       "'Hello, World'"
      ]
     },
     "execution_count": 28,
     "metadata": {},
     "output_type": "execute_result"
    }
   ],
   "source": [
    "say_hi()"
   ]
  },
  {
   "cell_type": "markdown",
   "id": "549e4b25",
   "metadata": {},
   "source": [
    "## Args"
   ]
  },
  {
   "cell_type": "code",
   "execution_count": 29,
   "id": "98fe60d6",
   "metadata": {},
   "outputs": [],
   "source": [
    "def calc_sum(a,b,c):\n",
    "    res= a + b + c\n",
    "    return res"
   ]
  },
  {
   "cell_type": "code",
   "execution_count": 30,
   "id": "7a0ddc72",
   "metadata": {},
   "outputs": [],
   "source": [
    "def calc_sum(a,b,c,d):\n",
    "    res= a + b + c\n",
    "    return res"
   ]
  },
  {
   "cell_type": "code",
   "execution_count": 31,
   "id": "ee0ff470",
   "metadata": {},
   "outputs": [],
   "source": [
    "def calc_sum(*args):\n",
    "    res= sum(args)\n",
    "    return res"
   ]
  },
  {
   "cell_type": "code",
   "execution_count": 32,
   "id": "2a3cf282",
   "metadata": {},
   "outputs": [
    {
     "data": {
      "text/plain": [
       "28"
      ]
     },
     "execution_count": 32,
     "metadata": {},
     "output_type": "execute_result"
    }
   ],
   "source": [
    "calc_sum(1,2,3,4,5,6,7)"
   ]
  },
  {
   "cell_type": "code",
   "execution_count": 33,
   "id": "fbc00955",
   "metadata": {},
   "outputs": [],
   "source": [
    "def printer(*args):\n",
    "    print(type(args))\n",
    "    print(args)\n",
    "    for i in args:\n",
    "        print(i)"
   ]
  },
  {
   "cell_type": "code",
   "execution_count": 34,
   "id": "765ed4d7",
   "metadata": {},
   "outputs": [
    {
     "name": "stdout",
     "output_type": "stream",
     "text": [
      "<class 'tuple'>\n",
      "(1, 'text', {'key': 'value'})\n",
      "1\n",
      "text\n",
      "{'key': 'value'}\n"
     ]
    }
   ],
   "source": [
    "printer(1,'text',{'key':'value'})"
   ]
  },
  {
   "cell_type": "code",
   "execution_count": 35,
   "id": "e64d58ca",
   "metadata": {},
   "outputs": [
    {
     "name": "stdout",
     "output_type": "stream",
     "text": [
      "<class 'tuple'>\n",
      "(['john', 'anton', 'chris'],)\n",
      "['john', 'anton', 'chris']\n"
     ]
    }
   ],
   "source": [
    "names = ['john','anton','chris']\n",
    "printer(names)"
   ]
  },
  {
   "cell_type": "code",
   "execution_count": 36,
   "id": "ffc60e60",
   "metadata": {},
   "outputs": [
    {
     "name": "stdout",
     "output_type": "stream",
     "text": [
      "<class 'tuple'>\n",
      "('john', 'anton', 'chris')\n",
      "john\n",
      "anton\n",
      "chris\n"
     ]
    }
   ],
   "source": [
    "printer(*names)"
   ]
  },
  {
   "cell_type": "markdown",
   "id": "b3258fb4",
   "metadata": {},
   "source": [
    "## KWARGS (keyworg arguments"
   ]
  },
  {
   "cell_type": "code",
   "execution_count": 37,
   "id": "f1b2f65b",
   "metadata": {},
   "outputs": [],
   "source": [
    "def printer(**kwargs):\n",
    "    print(type(kwargs))\n",
    "    print()\n",
    "    for key, value in kwargs.items():\n",
    "        print(f'{key} - {value}')"
   ]
  },
  {
   "cell_type": "code",
   "execution_count": 38,
   "id": "f54107c5",
   "metadata": {},
   "outputs": [
    {
     "name": "stdout",
     "output_type": "stream",
     "text": [
      "<class 'dict'>\n",
      "\n",
      "a - 10\n",
      "b - 20\n"
     ]
    }
   ],
   "source": [
    "printer(a=10, b='20')"
   ]
  },
  {
   "cell_type": "code",
   "execution_count": 39,
   "id": "63c2e7e5",
   "metadata": {},
   "outputs": [],
   "source": [
    "def say_hi(**kwargs):\n",
    "    greeting = kwargs.get('greeting','hello')\n",
    "    name = kwargs.get('name','World')\n",
    "    return f'{greeting}, {name}'"
   ]
  },
  {
   "cell_type": "code",
   "execution_count": 40,
   "id": "1a5e6366",
   "metadata": {},
   "outputs": [
    {
     "data": {
      "text/plain": [
       "'hello, World'"
      ]
     },
     "execution_count": 40,
     "metadata": {},
     "output_type": "execute_result"
    }
   ],
   "source": [
    "say_hi()"
   ]
  },
  {
   "cell_type": "code",
   "execution_count": 41,
   "id": "6fa9d5bd",
   "metadata": {},
   "outputs": [
    {
     "data": {
      "text/plain": [
       "'Hey, John'"
      ]
     },
     "execution_count": 41,
     "metadata": {},
     "output_type": "execute_result"
    }
   ],
   "source": [
    "say_hi(greeting = 'Hey',name = \"John\")"
   ]
  },
  {
   "cell_type": "code",
   "execution_count": 42,
   "id": "2cb7ba2b",
   "metadata": {},
   "outputs": [
    {
     "data": {
      "text/plain": [
       "'Hey, John'"
      ]
     },
     "execution_count": 42,
     "metadata": {},
     "output_type": "execute_result"
    }
   ],
   "source": [
    "say_hi(greeting = 'Hey',name = \"John\", extra = 5)"
   ]
  },
  {
   "cell_type": "code",
   "execution_count": 43,
   "id": "2ec5bcf8",
   "metadata": {},
   "outputs": [
    {
     "data": {
      "text/plain": [
       "'Hey, John'"
      ]
     },
     "execution_count": 43,
     "metadata": {},
     "output_type": "execute_result"
    }
   ],
   "source": [
    "data = {'greeting': 'Hey',\n",
    "       'name': \"John\",\n",
    "       \"extra\": 5}\n",
    "say_hi(**data)"
   ]
  },
  {
   "cell_type": "markdown",
   "id": "06970c16",
   "metadata": {},
   "source": [
    "# Аннотирование типов"
   ]
  },
  {
   "cell_type": "code",
   "execution_count": 44,
   "id": "2d74415a",
   "metadata": {},
   "outputs": [],
   "source": [
    "def calc_sum(a: int,b: int) -> int:\n",
    "    return a + b"
   ]
  },
  {
   "cell_type": "code",
   "execution_count": 45,
   "id": "02a436dd",
   "metadata": {},
   "outputs": [
    {
     "data": {
      "text/plain": [
       "3"
      ]
     },
     "execution_count": 45,
     "metadata": {},
     "output_type": "execute_result"
    }
   ],
   "source": [
    "calc_sum(1,2)"
   ]
  },
  {
   "cell_type": "code",
   "execution_count": 46,
   "id": "fe2baa5b",
   "metadata": {},
   "outputs": [
    {
     "data": {
      "text/plain": [
       "3.3000000000000003"
      ]
     },
     "execution_count": 46,
     "metadata": {},
     "output_type": "execute_result"
    }
   ],
   "source": [
    "calc_sum(1.1,2.2)"
   ]
  },
  {
   "cell_type": "code",
   "execution_count": 47,
   "id": "8ef039db",
   "metadata": {},
   "outputs": [
    {
     "data": {
      "text/plain": [
       "'abcdef'"
      ]
     },
     "execution_count": 47,
     "metadata": {},
     "output_type": "execute_result"
    }
   ],
   "source": [
    "calc_sum('abc','def')"
   ]
  },
  {
   "cell_type": "markdown",
   "id": "bfb0fe77",
   "metadata": {},
   "source": [
    "# Генераторы"
   ]
  },
  {
   "cell_type": "markdown",
   "id": "58a65b94",
   "metadata": {},
   "source": [
    "Генератор - это объект, который сразу при создании не вычисляет значение всех своих элементов."
   ]
  },
  {
   "cell_type": "markdown",
   "id": "ddece060",
   "metadata": {},
   "source": [
    "Генератор хранит в память:\n",
    "    1. Последний вычесленный элемент\n",
    "    2. Правило перехода к следующему\n",
    "    3. Условие, при котором выполнение прерывается\n",
    "    \n",
    "Вычесление следующего элемента происходит лишь при выполнении команды next(). Предыдущее значение при этом теряется. Этим генераторы отличаются от списков, ведь списки хранят в памяти все свои элементы, и удалить их можно только программно. Вычисления с помощью генераторов экономят память."
   ]
  },
  {
   "cell_type": "code",
   "execution_count": 48,
   "id": "f7d12470",
   "metadata": {},
   "outputs": [],
   "source": [
    "def my_range(start,end):\n",
    "    current = start\n",
    "    while current < end:\n",
    "        yield current\n",
    "        current += 1"
   ]
  },
  {
   "cell_type": "markdown",
   "id": "b5d3de27",
   "metadata": {},
   "source": [
    "Оператор yield приостанавливает функцию и сохраняет локальное состояние, чтобы его можно возобновить с того места, где оно было остановлено."
   ]
  },
  {
   "cell_type": "code",
   "execution_count": 49,
   "id": "6f5d9c33",
   "metadata": {},
   "outputs": [
    {
     "data": {
      "text/plain": [
       "<generator object my_range at 0x7faa1002dcf0>"
      ]
     },
     "execution_count": 49,
     "metadata": {},
     "output_type": "execute_result"
    }
   ],
   "source": [
    "ranger = my_range(0,2)\n",
    "ranger"
   ]
  },
  {
   "cell_type": "code",
   "execution_count": 50,
   "id": "6539ade4",
   "metadata": {
    "scrolled": true
   },
   "outputs": [
    {
     "data": {
      "text/plain": [
       "0"
      ]
     },
     "execution_count": 50,
     "metadata": {},
     "output_type": "execute_result"
    }
   ],
   "source": [
    "next(ranger)"
   ]
  },
  {
   "cell_type": "code",
   "execution_count": 51,
   "id": "78814a90",
   "metadata": {
    "scrolled": false
   },
   "outputs": [
    {
     "data": {
      "text/plain": [
       "1"
      ]
     },
     "execution_count": 51,
     "metadata": {},
     "output_type": "execute_result"
    }
   ],
   "source": [
    "next(ranger)"
   ]
  },
  {
   "cell_type": "code",
   "execution_count": 52,
   "id": "505ad527",
   "metadata": {
    "scrolled": true
   },
   "outputs": [
    {
     "name": "stdout",
     "output_type": "stream",
     "text": [
      "2\n",
      "3\n",
      "4\n"
     ]
    }
   ],
   "source": [
    "gen_a=my_range(2,5)\n",
    "for i in gen_a:\n",
    "    print(i)"
   ]
  },
  {
   "cell_type": "code",
   "execution_count": 53,
   "id": "421892d3",
   "metadata": {
    "scrolled": true
   },
   "outputs": [],
   "source": [
    "for i in gen_a:\n",
    "    print(i)"
   ]
  },
  {
   "cell_type": "markdown",
   "id": "25e99922",
   "metadata": {
    "scrolled": false
   },
   "source": [
    "# List comprehensions\n"
   ]
  },
  {
   "cell_type": "code",
   "execution_count": 54,
   "id": "80502470",
   "metadata": {
    "scrolled": false
   },
   "outputs": [
    {
     "data": {
      "text/plain": [
       "[0, 1, 4, 9, 16]"
      ]
     },
     "execution_count": 54,
     "metadata": {},
     "output_type": "execute_result"
    }
   ],
   "source": [
    "squares = []\n",
    "for i in range(5):\n",
    "    squares.append(i*i)\n",
    "squares"
   ]
  },
  {
   "cell_type": "code",
   "execution_count": 55,
   "id": "827557e4",
   "metadata": {},
   "outputs": [
    {
     "data": {
      "text/plain": [
       "[0, 1, 4, 9, 16]"
      ]
     },
     "execution_count": 55,
     "metadata": {},
     "output_type": "execute_result"
    }
   ],
   "source": [
    "squares = [i*i for i in range(5)]\n",
    "squares"
   ]
  },
  {
   "cell_type": "markdown",
   "id": "69aa934e",
   "metadata": {
    "scrolled": false
   },
   "source": [
    "new_list = [expression for member in iterable] (вычисление для итерации)"
   ]
  },
  {
   "cell_type": "code",
   "execution_count": 56,
   "id": "a3170ae2",
   "metadata": {
    "scrolled": false
   },
   "outputs": [
    {
     "data": {
      "text/plain": [
       "[0, 2, 4, 6]"
      ]
     },
     "execution_count": 56,
     "metadata": {},
     "output_type": "execute_result"
    }
   ],
   "source": [
    "even_nums = []\n",
    "for i in range(8):\n",
    "    if i % 2 ==0:\n",
    "        even_nums.append(i)\n",
    "        \n",
    "even_nums"
   ]
  },
  {
   "cell_type": "code",
   "execution_count": 57,
   "id": "203f3565",
   "metadata": {
    "scrolled": false
   },
   "outputs": [
    {
     "data": {
      "text/plain": [
       "[0, 2, 4, 6, 8]"
      ]
     },
     "execution_count": 57,
     "metadata": {},
     "output_type": "execute_result"
    }
   ],
   "source": [
    "even_nums = [i for i in range(10) if i % 2 == 0]\n",
    "even_nums"
   ]
  },
  {
   "cell_type": "code",
   "execution_count": 58,
   "id": "17b91fa3",
   "metadata": {
    "scrolled": false
   },
   "outputs": [
    {
     "data": {
      "text/plain": [
       "[125, 0, 103, 38, 0, 116]"
      ]
     },
     "execution_count": 58,
     "metadata": {},
     "output_type": "execute_result"
    }
   ],
   "source": [
    "orig_prices = [125,-9,103,38,-5,116]\n",
    "\n",
    "prices = []\n",
    "for i in orig_prices:\n",
    "    if i > 0:\n",
    "        prices.append(i)\n",
    "    else:\n",
    "        prices.append(0)\n",
    "        \n",
    "prices"
   ]
  },
  {
   "cell_type": "code",
   "execution_count": 59,
   "id": "4568ef56",
   "metadata": {
    "scrolled": false
   },
   "outputs": [
    {
     "data": {
      "text/plain": [
       "[125, 0, 103, 38, 0, 116]"
      ]
     },
     "execution_count": 59,
     "metadata": {},
     "output_type": "execute_result"
    }
   ],
   "source": [
    "orig_prices = [125,-9,103,38,-5,116]\n",
    "prices = [i if i > 0 else 0 for i in orig_prices]\n",
    "prices"
   ]
  },
  {
   "cell_type": "code",
   "execution_count": 60,
   "id": "fc6f3ff1",
   "metadata": {
    "scrolled": false
   },
   "outputs": [
    {
     "data": {
      "text/plain": [
       "[125, 0, 103, 38, 0, 116]"
      ]
     },
     "execution_count": 60,
     "metadata": {},
     "output_type": "execute_result"
    }
   ],
   "source": [
    "def get_price(price):\n",
    "    return price if price > 0 else 0\n",
    "\n",
    "prices = [get_price(i) for i in orig_prices]\n",
    "prices"
   ]
  },
  {
   "cell_type": "code",
   "execution_count": 61,
   "id": "60aafa69",
   "metadata": {
    "scrolled": false
   },
   "outputs": [
    {
     "ename": "NameError",
     "evalue": "name 'price' is not defined",
     "output_type": "error",
     "traceback": [
      "\u001b[0;31m---------------------------------------------------------------------------\u001b[0m",
      "\u001b[0;31mNameError\u001b[0m                                 Traceback (most recent call last)",
      "\u001b[0;32m/var/folders/3w/z8lz0mhx3xv6jy9tlj7bfbpc0000gn/T/ipykernel_33135/1575572552.py\u001b[0m in \u001b[0;36m<module>\u001b[0;34m\u001b[0m\n\u001b[1;32m      2\u001b[0m     \u001b[0;32mreturn\u001b[0m \u001b[0mprice\u001b[0m \u001b[0;32mif\u001b[0m \u001b[0mprice\u001b[0m \u001b[0;34m>\u001b[0m \u001b[0;36m0\u001b[0m \u001b[0;32melse\u001b[0m \u001b[0;36m0\u001b[0m\u001b[0;34m\u001b[0m\u001b[0;34m\u001b[0m\u001b[0m\n\u001b[1;32m      3\u001b[0m \u001b[0;34m\u001b[0m\u001b[0m\n\u001b[0;32m----> 4\u001b[0;31m \u001b[0mget_price\u001b[0m\u001b[0;34m(\u001b[0m\u001b[0mprice\u001b[0m\u001b[0;34m)\u001b[0m\u001b[0;34m\u001b[0m\u001b[0;34m\u001b[0m\u001b[0m\n\u001b[0m",
      "\u001b[0;31mNameError\u001b[0m: name 'price' is not defined"
     ]
    }
   ],
   "source": [
    "def get_price(price):\n",
    "    return price if price > 0 else 0\n",
    "\n",
    "get_price(price)"
   ]
  },
  {
   "cell_type": "code",
   "execution_count": null,
   "id": "c152f0ff",
   "metadata": {
    "scrolled": false
   },
   "outputs": [],
   "source": [
    "\n",
    "prices = [get_price(i) for i in orig_prices]\n",
    "prices"
   ]
  },
  {
   "cell_type": "markdown",
   "id": "02ab05ad",
   "metadata": {
    "scrolled": false
   },
   "source": [
    "## Set comprehension"
   ]
  },
  {
   "cell_type": "code",
   "execution_count": null,
   "id": "d024be2a",
   "metadata": {},
   "outputs": [],
   "source": [
    "numbers = ['black','yellow','red','green','green']\n",
    "{i for i in numbers}"
   ]
  },
  {
   "cell_type": "markdown",
   "id": "c1d3b2ed",
   "metadata": {},
   "source": [
    "## Dist comprehension"
   ]
  },
  {
   "cell_type": "code",
   "execution_count": null,
   "id": "7b5fe9b1",
   "metadata": {},
   "outputs": [],
   "source": [
    "squares_dict = {i: i*i for i in range(5)}\n",
    "squares_dict"
   ]
  },
  {
   "cell_type": "code",
   "execution_count": null,
   "id": "6a34e52d",
   "metadata": {
    "scrolled": false
   },
   "outputs": [],
   "source": []
  }
 ],
 "metadata": {
  "kernelspec": {
   "display_name": "Python 3 (ipykernel)",
   "language": "python",
   "name": "python3"
  },
  "language_info": {
   "codemirror_mode": {
    "name": "ipython",
    "version": 3
   },
   "file_extension": ".py",
   "mimetype": "text/x-python",
   "name": "python",
   "nbconvert_exporter": "python",
   "pygments_lexer": "ipython3",
   "version": "3.9.13"
  }
 },
 "nbformat": 4,
 "nbformat_minor": 5
}
